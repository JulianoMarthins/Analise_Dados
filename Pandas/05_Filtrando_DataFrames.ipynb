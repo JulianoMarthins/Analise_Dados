{
 "cells": [
  {
   "cell_type": "code",
   "execution_count": 2,
   "metadata": {},
   "outputs": [
    {
     "data": {
      "text/html": [
       "<div>\n",
       "<style scoped>\n",
       "    .dataframe tbody tr th:only-of-type {\n",
       "        vertical-align: middle;\n",
       "    }\n",
       "\n",
       "    .dataframe tbody tr th {\n",
       "        vertical-align: top;\n",
       "    }\n",
       "\n",
       "    .dataframe thead th {\n",
       "        text-align: right;\n",
       "    }\n",
       "</style>\n",
       "<table border=\"1\" class=\"dataframe\">\n",
       "  <thead>\n",
       "    <tr style=\"text-align: right;\">\n",
       "      <th></th>\n",
       "      <th>Numero da Venda</th>\n",
       "      <th>Data da Venda</th>\n",
       "      <th>Data do Envio</th>\n",
       "      <th>ID Canal</th>\n",
       "      <th>ID Loja</th>\n",
       "      <th>ID Produto</th>\n",
       "      <th>ID Promocao</th>\n",
       "      <th>ID Cliente</th>\n",
       "      <th>Quantidade Vendida</th>\n",
       "      <th>Quantidade Devolvida</th>\n",
       "      <th>Nome Produto</th>\n",
       "      <th>Nome da Loja</th>\n",
       "      <th>E-mail do Cliente</th>\n",
       "    </tr>\n",
       "  </thead>\n",
       "  <tbody>\n",
       "    <tr>\n",
       "      <th>0</th>\n",
       "      <td>1</td>\n",
       "      <td>01/01/2017</td>\n",
       "      <td>02/01/2017</td>\n",
       "      <td>1</td>\n",
       "      <td>86</td>\n",
       "      <td>981</td>\n",
       "      <td>2</td>\n",
       "      <td>6825</td>\n",
       "      <td>9</td>\n",
       "      <td>1</td>\n",
       "      <td>A. Datum Advanced Digital Camera M300 Pink</td>\n",
       "      <td>Loja Contoso Austin</td>\n",
       "      <td>rbrumfieldmy@ameblo.jp</td>\n",
       "    </tr>\n",
       "    <tr>\n",
       "      <th>1</th>\n",
       "      <td>880458</td>\n",
       "      <td>23/11/2017</td>\n",
       "      <td>23/11/2017</td>\n",
       "      <td>0</td>\n",
       "      <td>306</td>\n",
       "      <td>235</td>\n",
       "      <td>10</td>\n",
       "      <td>6825</td>\n",
       "      <td>8</td>\n",
       "      <td>0</td>\n",
       "      <td>Litware Home Theater System 7.1 Channel M710 B...</td>\n",
       "      <td>Loja Contoso Europe Online</td>\n",
       "      <td>rbrumfieldmy@ameblo.jp</td>\n",
       "    </tr>\n",
       "    <tr>\n",
       "      <th>2</th>\n",
       "      <td>191019</td>\n",
       "      <td>20/03/2017</td>\n",
       "      <td>21/03/2017</td>\n",
       "      <td>1</td>\n",
       "      <td>172</td>\n",
       "      <td>376</td>\n",
       "      <td>2</td>\n",
       "      <td>6825</td>\n",
       "      <td>9</td>\n",
       "      <td>0</td>\n",
       "      <td>Adventure Works Laptop12 M1201 Silver</td>\n",
       "      <td>Loja Contoso Hartford</td>\n",
       "      <td>rbrumfieldmy@ameblo.jp</td>\n",
       "    </tr>\n",
       "    <tr>\n",
       "      <th>3</th>\n",
       "      <td>18610</td>\n",
       "      <td>08/01/2017</td>\n",
       "      <td>10/01/2017</td>\n",
       "      <td>2</td>\n",
       "      <td>200</td>\n",
       "      <td>448</td>\n",
       "      <td>2</td>\n",
       "      <td>6825</td>\n",
       "      <td>48</td>\n",
       "      <td>0</td>\n",
       "      <td>WWI Desktop PC1.80 E1801 Black</td>\n",
       "      <td>Loja Contoso Catalog</td>\n",
       "      <td>rbrumfieldmy@ameblo.jp</td>\n",
       "    </tr>\n",
       "    <tr>\n",
       "      <th>4</th>\n",
       "      <td>287704</td>\n",
       "      <td>23/04/2017</td>\n",
       "      <td>26/04/2017</td>\n",
       "      <td>3</td>\n",
       "      <td>76</td>\n",
       "      <td>280</td>\n",
       "      <td>1</td>\n",
       "      <td>6825</td>\n",
       "      <td>10</td>\n",
       "      <td>0</td>\n",
       "      <td>Contoso Home Theater System 2.1 Channel M1210 ...</td>\n",
       "      <td>Loja Contoso Beaumont No.1</td>\n",
       "      <td>rbrumfieldmy@ameblo.jp</td>\n",
       "    </tr>\n",
       "  </tbody>\n",
       "</table>\n",
       "</div>"
      ],
      "text/plain": [
       "   Numero da Venda Data da Venda Data do Envio  ID Canal  ID Loja  ID Produto  \\\n",
       "0                1    01/01/2017    02/01/2017         1       86         981   \n",
       "1           880458    23/11/2017    23/11/2017         0      306         235   \n",
       "2           191019    20/03/2017    21/03/2017         1      172         376   \n",
       "3            18610    08/01/2017    10/01/2017         2      200         448   \n",
       "4           287704    23/04/2017    26/04/2017         3       76         280   \n",
       "\n",
       "   ID Promocao  ID Cliente  Quantidade Vendida  Quantidade Devolvida  \\\n",
       "0            2        6825                   9                     1   \n",
       "1           10        6825                   8                     0   \n",
       "2            2        6825                   9                     0   \n",
       "3            2        6825                  48                     0   \n",
       "4            1        6825                  10                     0   \n",
       "\n",
       "                                        Nome Produto  \\\n",
       "0         A. Datum Advanced Digital Camera M300 Pink   \n",
       "1  Litware Home Theater System 7.1 Channel M710 B...   \n",
       "2              Adventure Works Laptop12 M1201 Silver   \n",
       "3                     WWI Desktop PC1.80 E1801 Black   \n",
       "4  Contoso Home Theater System 2.1 Channel M1210 ...   \n",
       "\n",
       "                  Nome da Loja       E-mail do Cliente  \n",
       "0         Loja Contoso Austin   rbrumfieldmy@ameblo.jp  \n",
       "1  Loja Contoso Europe Online   rbrumfieldmy@ameblo.jp  \n",
       "2       Loja Contoso Hartford   rbrumfieldmy@ameblo.jp  \n",
       "3        Loja Contoso Catalog   rbrumfieldmy@ameblo.jp  \n",
       "4  Loja Contoso Beaumont No.1   rbrumfieldmy@ameblo.jp  "
      ]
     },
     "metadata": {},
     "output_type": "display_data"
    }
   ],
   "source": [
    "import pandas as pd\n",
    "\n",
    "# Lendo os arquivos CSV da empresa\n",
    "vendas_df = pd.read_csv(r'Contoso - Vendas - 2017.csv', sep=';')\n",
    "produtos_df = pd.read_csv(r'Contoso - Cadastro Produtos.csv', sep=';', encoding='ISO8859-1')\n",
    "lojas_df = pd.read_csv(r'D:Contoso - Lojas.csv', sep=';', encoding='ISO8859-1')\n",
    "cliente_df = pd.read_csv(r'Contoso - Clientes.csv', sep=';', encoding='ISO8859-1')\n",
    "\n",
    "# Renomeando colunas para padronizar as tabelas\n",
    "produtos_df = produtos_df.rename(columns={'ÿNome do Produto': 'Nome Produto'})\n",
    "lojas_df = lojas_df.rename(columns={'ÿID Loja': 'ID Loja'})\n",
    "cliente_df = cliente_df.rename(columns={'ÿID Cliente': \"ID Cliente\"})\n",
    "cliente_df = cliente_df.rename(columns={'E-mail': 'E-mail do Cliente'})\n",
    "\n",
    "\n",
    "# Filtrando colunas necessárias a tabela\n",
    "cliente_df = cliente_df[['ID Cliente', 'E-mail do Cliente']]\n",
    "produtos_df = produtos_df[['ID Produto', 'Nome Produto']]\n",
    "lojas_df = lojas_df[['ID Loja', 'Nome da Loja']]\n",
    "\n",
    "# Associando as tabelas pela ID\n",
    "vendas_df = vendas_df.merge(produtos_df, on='ID Produto')\n",
    "vendas_df = vendas_df.merge(lojas_df, on='ID Loja')\n",
    "vendas_df = vendas_df.merge(cliente_df, on='ID Cliente')\n",
    "\n",
    "display(vendas_df.head())\n"
   ]
  },
  {
   "cell_type": "markdown",
   "metadata": {},
   "source": [
    "Abaixo, somaremos todos os elementos da coluna de quantidades vendidas, e de quantidades devolvida, após, retornaremos\n",
    "ao usuário a porcentagem de produtos devolvidos em todas as lojas da tabela."
   ]
  },
  {
   "cell_type": "code",
   "execution_count": 25,
   "metadata": {},
   "outputs": [
    {
     "name": "stdout",
     "output_type": "stream",
     "text": [
      "Devoluções: 1.17%\n"
     ]
    }
   ],
   "source": [
    "qnt_vendida = vendas_df['Quantidade Vendida'].sum()\n",
    "qnt_devolvidas = vendas_df['Quantidade Devolvida'].sum()\n",
    "\n",
    "print('Devoluções: {:.2%}'.format(qnt_devolvidas / qnt_vendida))"
   ]
  },
  {
   "cell_type": "markdown",
   "metadata": {},
   "source": [
    "Abaixo, nós filtraremos os elementos por loja, para depois, somar os valores vendidos e devolvidos podendo assim, retornar\n",
    "ao usuário a porcentagem de devolulção específica de cada loja."
   ]
  },
  {
   "cell_type": "code",
   "execution_count": 26,
   "metadata": {},
   "outputs": [
    {
     "name": "stdout",
     "output_type": "stream",
     "text": [
      "Dados das lojas Contoso\n",
      "Filial Europeon Line\n",
      "\n",
      "Devoluções: 1.33%\n"
     ]
    }
   ],
   "source": [
    "# A variável recebe uma tabela com as informação da loja 306, no caso , loja contoso europeon line\n",
    "vendas_lojas_europeonline = vendas_df[vendas_df['ID Loja'] == 306]\n",
    "\n",
    "\n",
    "qnt_vend_europeon = vendas_lojas_europeonline['Quantidade Vendida'].sum()\n",
    "qnt_dev_europeon = vendas_lojas_europeonline['Quantidade Devolvida'].sum()\n",
    "\n",
    "print('Dados das lojas Contoso\\nFilial Europeon Line')                                                                                                                                                                                                                                                                                                                                                                                                                                                                                                                                                                                                                                                                                                                                                                                                                                                                                                                                                                                                                                                                                                                                                                                                                                                                                                                                                                                                                                                                                                                                                                                                                                                                                                                                                                                                                                                                                                                                                                                                                                                                                                                                                                                                                                                                                                  \n",
    "print(f'\\nDevoluções: {qnt_dev_europeon / qnt_vend_europeon:.2%}')"
   ]
  },
  {
   "cell_type": "markdown",
   "metadata": {},
   "source": [
    "Desafio\n",
    "\n",
    "Crie uma tabela que retorne as vendas da loja contoso europeon line, porém, não deve ser contabilidade as vendas onde\n",
    "registre a devolução do produto"
   ]
  },
  {
   "cell_type": "code",
   "execution_count": 36,
   "metadata": {},
   "outputs": [
    {
     "data": {
      "text/plain": [
       "'Quantidade de vendas nas lojas Europeon Line: 481657'"
      ]
     },
     "metadata": {},
     "output_type": "display_data"
    }
   ],
   "source": [
    "loja_306 = vendas_df[(vendas_df['ID Loja'] == 306) & (vendas_df['Quantidade Devolvida'] == 0)]\n",
    "\n",
    "vendas_306 = loja_306['Quantidade Vendida'].sum()\n",
    "\n",
    "display(f'Quantidade de vendas nas lojas Europeon Line: {vendas_306}')"
   ]
  }
 ],
 "metadata": {
  "kernelspec": {
   "display_name": "Python 3",
   "language": "python",
   "name": "python3"
  },
  "language_info": {
   "codemirror_mode": {
    "name": "ipython",
    "version": 3
   },
   "file_extension": ".py",
   "mimetype": "text/x-python",
   "name": "python",
   "nbconvert_exporter": "python",
   "pygments_lexer": "ipython3",
   "version": "3.12.0"
  }
 },
 "nbformat": 4,
 "nbformat_minor": 2
}
