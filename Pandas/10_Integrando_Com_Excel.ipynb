{
 "cells": [
  {
   "cell_type": "code",
   "execution_count": 2,
   "metadata": {},
   "outputs": [
    {
     "data": {
      "text/plain": [
       "'\\n                                Integração do Python com o Excel\\n\\n                Existem duas formas básicas que será ensinada nests etápa do curso\\n\\n    1. Pandas \\n        * Mais usada de modo geral\\n        * Trata o Excel como uma base de dados\\n        * Faz o que quiser com o arquivo\\n        * Pode desfazer a estrutura do arquivo, caso queira editar\\n\\n    2. OpenPyXl\\n        * Trata o Excel como uma planilha\\n        * Edita o documento como se fosse um VBA\\n        * Menor eficiência\\n        * Mantém mais a estrutura original do arquivo, mas cuidado porque não\\n    necessariamente tudo, então, precisa ser testado\\n\\n\\n        Abaixo será disponibilizado um arquivo .csv em que disponibilizará a tabela de preços de uma empresa e calcular seu\\n    imposto, precisaremos atualizar a tabela de impostos pois houve um aumento nos impostos no setor de serviços\\n        Faremos as alterações necessárias com ambas bibliotecas, pandas e openpyxl\\n\\n'"
      ]
     },
     "execution_count": 2,
     "metadata": {},
     "output_type": "execute_result"
    }
   ],
   "source": [
    "\"\"\"\n",
    "                                Integração do Python com o Excel\n",
    "\n",
    "                Existem duas formas básicas que será ensinada nests etápa do curso\n",
    "\n",
    "    1. Pandas \n",
    "        * Mais usada de modo geral\n",
    "        * Trata o Excel como uma base de dados\n",
    "        * Faz o que quiser com o arquivo\n",
    "        * Pode desfazer a estrutura do arquivo, caso queira editar\n",
    "\n",
    "    2. OpenPyXl\n",
    "        * Trata o Excel como uma planilha\n",
    "        * Edita o documento como se fosse um VBA\n",
    "        * Menor eficiência\n",
    "        * Mantém mais a estrutura original do arquivo, mas cuidado porque não\n",
    "    necessariamente tudo, então, precisa ser testado\n",
    "\n",
    "\n",
    "        Abaixo será disponibilizado um arquivo .csv em que disponibilizará a tabela de preços de uma empresa e calcular seu\n",
    "    imposto, precisaremos atualizar a tabela de impostos pois houve um aumento nos impostos no setor de serviços\n",
    "        Faremos as alterações necessárias com ambas bibliotecas, pandas e openpyxl\n",
    "\n",
    "\"\"\""
   ]
  },
  {
   "cell_type": "code",
   "execution_count": 25,
   "metadata": {},
   "outputs": [
    {
     "data": {
      "text/html": [
       "<div>\n",
       "<style scoped>\n",
       "    .dataframe tbody tr th:only-of-type {\n",
       "        vertical-align: middle;\n",
       "    }\n",
       "\n",
       "    .dataframe tbody tr th {\n",
       "        vertical-align: top;\n",
       "    }\n",
       "\n",
       "    .dataframe thead th {\n",
       "        text-align: right;\n",
       "    }\n",
       "</style>\n",
       "<table border=\"1\" class=\"dataframe\">\n",
       "  <thead>\n",
       "    <tr style=\"text-align: right;\">\n",
       "      <th></th>\n",
       "      <th>Produtos</th>\n",
       "      <th>Preço Base Original</th>\n",
       "      <th>Tipo</th>\n",
       "      <th>Multiplicador Imposto</th>\n",
       "      <th>Preço Base Reais</th>\n",
       "    </tr>\n",
       "  </thead>\n",
       "  <tbody>\n",
       "    <tr>\n",
       "      <th>0</th>\n",
       "      <td>Tablet</td>\n",
       "      <td>999.99</td>\n",
       "      <td>Produto</td>\n",
       "      <td>1.1</td>\n",
       "      <td>1099.989</td>\n",
       "    </tr>\n",
       "    <tr>\n",
       "      <th>1</th>\n",
       "      <td>Pós Graduação</td>\n",
       "      <td>4500.00</td>\n",
       "      <td>Serviço</td>\n",
       "      <td>1.5</td>\n",
       "      <td>6750.000</td>\n",
       "    </tr>\n",
       "    <tr>\n",
       "      <th>2</th>\n",
       "      <td>Celular</td>\n",
       "      <td>899.99</td>\n",
       "      <td>Produto</td>\n",
       "      <td>1.1</td>\n",
       "      <td>989.989</td>\n",
       "    </tr>\n",
       "    <tr>\n",
       "      <th>3</th>\n",
       "      <td>Passagem Aérea</td>\n",
       "      <td>799.00</td>\n",
       "      <td>Serviço</td>\n",
       "      <td>1.5</td>\n",
       "      <td>1198.500</td>\n",
       "    </tr>\n",
       "    <tr>\n",
       "      <th>4</th>\n",
       "      <td>Computador</td>\n",
       "      <td>3000.00</td>\n",
       "      <td>Produto</td>\n",
       "      <td>1.1</td>\n",
       "      <td>3300.000</td>\n",
       "    </tr>\n",
       "    <tr>\n",
       "      <th>5</th>\n",
       "      <td>SPA</td>\n",
       "      <td>480.48</td>\n",
       "      <td>Serviço</td>\n",
       "      <td>1.5</td>\n",
       "      <td>720.720</td>\n",
       "    </tr>\n",
       "    <tr>\n",
       "      <th>6</th>\n",
       "      <td>Corte Cabelo</td>\n",
       "      <td>50.00</td>\n",
       "      <td>Serviço</td>\n",
       "      <td>1.5</td>\n",
       "      <td>75.000</td>\n",
       "    </tr>\n",
       "  </tbody>\n",
       "</table>\n",
       "</div>"
      ],
      "text/plain": [
       "         Produtos  Preço Base Original     Tipo  Multiplicador Imposto  \\\n",
       "0          Tablet               999.99  Produto                    1.1   \n",
       "1   Pós Graduação              4500.00  Serviço                    1.5   \n",
       "2         Celular               899.99  Produto                    1.1   \n",
       "3  Passagem Aérea               799.00  Serviço                    1.5   \n",
       "4      Computador              3000.00  Produto                    1.1   \n",
       "5             SPA               480.48  Serviço                    1.5   \n",
       "6    Corte Cabelo                50.00  Serviço                    1.5   \n",
       "\n",
       "   Preço Base Reais  \n",
       "0          1099.989  \n",
       "1          6750.000  \n",
       "2           989.989  \n",
       "3          1198.500  \n",
       "4          3300.000  \n",
       "5           720.720  \n",
       "6            75.000  "
      ]
     },
     "metadata": {},
     "output_type": "display_data"
    }
   ],
   "source": [
    "#                           Metododo de atualização com a utilização do Pandas\n",
    "\n",
    "import pandas as pd \n",
    "\n",
    "tabela = pd.read_excel('Produtos.xlsx')\n",
    "\n",
    "tabela.loc[tabela[\"Tipo\"] == \"Serviço\", 'Multiplicador Imposto'] = 1.5\n",
    "\n",
    "tabela[\"Preço Base Reais\"] = tabela[\"Multiplicador Imposto\"] * tabela[\"Preço Base Original\"]\n",
    "\n",
    "display(tabela)\n",
    "\n"
   ]
  },
  {
   "cell_type": "code",
   "execution_count": 28,
   "metadata": {},
   "outputs": [],
   "source": [
    "tabela.to_excel(\"ProdutosPandas.xlsx\", index=False)"
   ]
  },
  {
   "cell_type": "code",
   "execution_count": 39,
   "metadata": {},
   "outputs": [],
   "source": [
    "#                           Metododo de atualização com a utilização do OpenPyXL\n",
    "\n",
    "from openpyxl import Workbook, load_workbook\n",
    "\n",
    "planilha = load_workbook(\"Produtos.xlsx\")\n",
    "\n",
    "aba_ativa = planilha.active\n",
    "\n",
    "for celula in aba_ativa[\"C\"]:\n",
    "    if celula.value == \"Serviço\":\n",
    "        linha = celula.row\n",
    "        aba_ativa[f'D{linha}'] = 1.5\n",
    "\n",
    "\n",
    "planilha.save(\"ProdutosOpenPy.xlsx\")\n",
    "\n",
    "\n"
   ]
  }
 ],
 "metadata": {
  "kernelspec": {
   "display_name": "Python 3",
   "language": "python",
   "name": "python3"
  },
  "language_info": {
   "codemirror_mode": {
    "name": "ipython",
    "version": 3
   },
   "file_extension": ".py",
   "mimetype": "text/x-python",
   "name": "python",
   "nbconvert_exporter": "python",
   "pygments_lexer": "ipython3",
   "version": "3.12.0"
  }
 },
 "nbformat": 4,
 "nbformat_minor": 2
}
