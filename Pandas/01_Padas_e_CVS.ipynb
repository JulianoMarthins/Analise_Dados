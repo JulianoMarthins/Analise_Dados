{
 "cells": [
  {
   "cell_type": "code",
   "execution_count": null,
   "metadata": {},
   "outputs": [],
   "source": [
    "\"\"\"\n",
    "                                O que é pandas e para que ele serve?\n",
    "\n",
    "    * Pandas é uma biblioteca com foco em análise de dados, ou seja, para DataScience, seja para trabalhar de forma integrada\n",
    "    com arquivos em Excel e Banco de Dados\n",
    "\n",
    "    * Melhor Biblioteca/Módulo para se trabalhar com quantidades enormes de informações\n",
    "\n",
    "    * Uma mistura de listas e dicionários de forma muito eficientes.\n",
    "\n",
    "    Em resumo, se você trabalha com muitos dados, você vai precisar usar o pandas.\n",
    "\n",
    "    Quase sempre quando formos \"ler\" um arquivo csv, vamos usar o pandas, com ele o processo se torna mais prático, e muito mais\n",
    "    eficiente.\n",
    "\n",
    "    Devemos lembrar que o formato padrão de arquivos .csv é de vir todas as informações unidas, como se fosse um texto só, a cada\n",
    "    quebra de linha que existe no arquivo, é marcada por um ponto e virgula (;), sendo assim, ao passar o parâmetro ao método de\n",
    "    leitura, sep=';', o leitor do pandas irá separar todas as palavras que forem encontradas um ponto e virgula criando novas colunas\n",
    "    para a tabela.\n",
    "\n",
    "\"\"\"\n",
    "\n",
    "import pandas as pd\n",
    "\n",
    "print()\n",
    "\n",
    "vendas = pd.read_csv(r'D:\\WorkSpace\\Python\\Python_Impressionador\\Pandas\\Contoso - Vendas - 2017.csv', sep=';')\n",
    "\n",
    "print(vendas)"
   ]
  }
 ],
 "metadata": {
  "language_info": {
   "name": "python"
  }
 },
 "nbformat": 4,
 "nbformat_minor": 2
}
